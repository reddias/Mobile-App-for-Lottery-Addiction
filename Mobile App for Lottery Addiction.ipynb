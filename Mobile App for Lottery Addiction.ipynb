{
 "cells": [
  {
   "cell_type": "markdown",
   "id": "abda54aa",
   "metadata": {},
   "source": [
    "# Mobile App for Lottery Addiction"
   ]
  },
  {
   "cell_type": "markdown",
   "id": "a63f796d",
   "metadata": {},
   "source": [
    "In this project we will be contributing to the development of a mobile app by writing some functions that are mainly focused on probability calculation. By helping people to better estimate their chances of winning, the app aims to both prevent and treat lottery addiction.\n",
    "\n",
    "A medical institute that specializes in treating gambling addiction came up with the idea for the app. The institute already has an engineering team to build the app, however, it needs us to create the logical core of the app and do the probability calculations. For the first version of the app, the institute wants us to focus on the 6/49 lotto and create functions that can answer the following questions for users:\n",
    "\n",
    "* Given a single ticket, what is the probability of winning the big prize?\n",
    "* If we play 40 different tickets (or any other number), what is the probability of winning the big prize?\n",
    "* How likely are we to get at least five (or four or three) winning numbers on one ticket?\n",
    "* The scenario we'll be following throughout this project is fictional - the main purpose is to practice the application of probability and combinatorics (permutations and combinations) concepts in a setting that simulates a real-world scenario."
   ]
  },
  {
   "cell_type": "markdown",
   "id": "702fe191",
   "metadata": {},
   "source": [
    "## Core Functions"
   ]
  },
  {
   "cell_type": "markdown",
   "id": "595c7a79",
   "metadata": {},
   "source": [
    "Below we'll write two functions that we'll use frequently:\n",
    "\n",
    "* `factorial()` - a function that calculates the factorial of a number\n",
    "\n",
    "* `combinations()` - a function for the calculation of combinations"
   ]
  },
  {
   "cell_type": "code",
   "execution_count": 4,
   "id": "33bd345f",
   "metadata": {},
   "outputs": [],
   "source": [
    "def factorial(n):\n",
    "    if n == 0 or n == 1:\n",
    "        return 1\n",
    "    return n * factorial(n - 1)\n",
    "def combinations(n, k):\n",
    "    return int(factorial(n) / (factorial(k) * factorial(n - k)))"
   ]
  },
  {
   "cell_type": "markdown",
   "id": "83092253",
   "metadata": {},
   "source": [
    "## One-ticket Probability"
   ]
  },
  {
   "cell_type": "markdown",
   "id": "c0f71596",
   "metadata": {},
   "source": [
    "We need to build a function that computes the probability of winning the grand prize for any given ticket. For each drawing, six numbers are drawn from a set of 49, and a person will win the grand prize if the six numbers on their ticket match all six numbers.\n",
    "\n",
    "The engineering team told us that we needed to be aware of the following details when writing the function:\n",
    "\n",
    "* Inside the application, the user will type in six different numbers ranging from 1 to 49.\n",
    "* Under the hood, the six numbers come as a Python list and are used to input our function.\n",
    "* The engineering team wants the function to print out the probability value in a friendly way - in a way that people with no probability training can comprehend.\n",
    "\n",
    "Here's how we write the `one_ticket_probability()` function, which takes a list of six unique numbers and prints out the probability of winning in an easy-to-understand way."
   ]
  },
  {
   "cell_type": "code",
   "execution_count": 5,
   "id": "096fe55f",
   "metadata": {},
   "outputs": [],
   "source": [
    "def one_ticket_probability(user_numbers):\n",
    "    \n",
    "    n_combinations = combinations(49, 6)\n",
    "    probability_one_ticket = 1 / n_combinations\n",
    "    percentage_form = probability_one_ticket * 100\n",
    "    \n",
    "    print('''Your chances to win the big prize with the numbers {} are {:.8f}%.\n",
    "In other words, you have a 1 in {:,} chances to win.'''.format(user_numbers,\n",
    "                    percentage_form, int(n_combinations)))"
   ]
  },
  {
   "cell_type": "markdown",
   "id": "a200844c",
   "metadata": {},
   "source": [
    "Now, let's test the function."
   ]
  },
  {
   "cell_type": "code",
   "execution_count": 6,
   "id": "8584e9b7",
   "metadata": {},
   "outputs": [
    {
     "name": "stdout",
     "output_type": "stream",
     "text": [
      "Your chances to win the big prize with the numbers [2, 15, 30, 23, 3, 5] are 0.00000715%.\n",
      "In other words, you have a 1 in 13,983,816 chances to win.\n"
     ]
    }
   ],
   "source": [
    "test_input_1 = [2, 15, 30, 23, 3, 5]\n",
    "one_ticket_probability(test_input_1)"
   ]
  },
  {
   "cell_type": "markdown",
   "id": "16a11a4e",
   "metadata": {},
   "source": [
    "## Historical Data Check for Canada Lottery"
   ]
  },
  {
   "cell_type": "markdown",
   "id": "f9690d21",
   "metadata": {},
   "source": [
    "The data from the national 6/49 lottery game in Canada is also something the Institute would like us to consider. The dataset (which can be downloaded [here](https://www.kaggle.com/datascienceai/lottery-dataset)) contains historical data for 3,665 drawings from 1982 to 2018."
   ]
  },
  {
   "cell_type": "code",
   "execution_count": 7,
   "id": "b3a96e23",
   "metadata": {},
   "outputs": [
    {
     "data": {
      "text/plain": [
       "(3665, 11)"
      ]
     },
     "execution_count": 7,
     "metadata": {},
     "output_type": "execute_result"
    }
   ],
   "source": [
    "import pandas as pd\n",
    "\n",
    "lottery_canada = pd.read_csv('D:/649.csv')\n",
    "lottery_canada.shape"
   ]
  },
  {
   "cell_type": "code",
   "execution_count": 8,
   "id": "388c0bc3",
   "metadata": {},
   "outputs": [
    {
     "data": {
      "text/html": [
       "<div>\n",
       "<style scoped>\n",
       "    .dataframe tbody tr th:only-of-type {\n",
       "        vertical-align: middle;\n",
       "    }\n",
       "\n",
       "    .dataframe tbody tr th {\n",
       "        vertical-align: top;\n",
       "    }\n",
       "\n",
       "    .dataframe thead th {\n",
       "        text-align: right;\n",
       "    }\n",
       "</style>\n",
       "<table border=\"1\" class=\"dataframe\">\n",
       "  <thead>\n",
       "    <tr style=\"text-align: right;\">\n",
       "      <th></th>\n",
       "      <th>PRODUCT</th>\n",
       "      <th>DRAW NUMBER</th>\n",
       "      <th>SEQUENCE NUMBER</th>\n",
       "      <th>DRAW DATE</th>\n",
       "      <th>NUMBER DRAWN 1</th>\n",
       "      <th>NUMBER DRAWN 2</th>\n",
       "      <th>NUMBER DRAWN 3</th>\n",
       "      <th>NUMBER DRAWN 4</th>\n",
       "      <th>NUMBER DRAWN 5</th>\n",
       "      <th>NUMBER DRAWN 6</th>\n",
       "      <th>BONUS NUMBER</th>\n",
       "    </tr>\n",
       "  </thead>\n",
       "  <tbody>\n",
       "    <tr>\n",
       "      <th>0</th>\n",
       "      <td>649</td>\n",
       "      <td>1</td>\n",
       "      <td>0</td>\n",
       "      <td>6/12/1982</td>\n",
       "      <td>3</td>\n",
       "      <td>11</td>\n",
       "      <td>12</td>\n",
       "      <td>14</td>\n",
       "      <td>41</td>\n",
       "      <td>43</td>\n",
       "      <td>13</td>\n",
       "    </tr>\n",
       "    <tr>\n",
       "      <th>1</th>\n",
       "      <td>649</td>\n",
       "      <td>2</td>\n",
       "      <td>0</td>\n",
       "      <td>6/19/1982</td>\n",
       "      <td>8</td>\n",
       "      <td>33</td>\n",
       "      <td>36</td>\n",
       "      <td>37</td>\n",
       "      <td>39</td>\n",
       "      <td>41</td>\n",
       "      <td>9</td>\n",
       "    </tr>\n",
       "    <tr>\n",
       "      <th>2</th>\n",
       "      <td>649</td>\n",
       "      <td>3</td>\n",
       "      <td>0</td>\n",
       "      <td>6/26/1982</td>\n",
       "      <td>1</td>\n",
       "      <td>6</td>\n",
       "      <td>23</td>\n",
       "      <td>24</td>\n",
       "      <td>27</td>\n",
       "      <td>39</td>\n",
       "      <td>34</td>\n",
       "    </tr>\n",
       "    <tr>\n",
       "      <th>3</th>\n",
       "      <td>649</td>\n",
       "      <td>4</td>\n",
       "      <td>0</td>\n",
       "      <td>7/3/1982</td>\n",
       "      <td>3</td>\n",
       "      <td>9</td>\n",
       "      <td>10</td>\n",
       "      <td>13</td>\n",
       "      <td>20</td>\n",
       "      <td>43</td>\n",
       "      <td>34</td>\n",
       "    </tr>\n",
       "    <tr>\n",
       "      <th>4</th>\n",
       "      <td>649</td>\n",
       "      <td>5</td>\n",
       "      <td>0</td>\n",
       "      <td>7/10/1982</td>\n",
       "      <td>5</td>\n",
       "      <td>14</td>\n",
       "      <td>21</td>\n",
       "      <td>31</td>\n",
       "      <td>34</td>\n",
       "      <td>47</td>\n",
       "      <td>45</td>\n",
       "    </tr>\n",
       "    <tr>\n",
       "      <th>5</th>\n",
       "      <td>649</td>\n",
       "      <td>6</td>\n",
       "      <td>0</td>\n",
       "      <td>7/17/1982</td>\n",
       "      <td>8</td>\n",
       "      <td>20</td>\n",
       "      <td>21</td>\n",
       "      <td>25</td>\n",
       "      <td>31</td>\n",
       "      <td>41</td>\n",
       "      <td>33</td>\n",
       "    </tr>\n",
       "    <tr>\n",
       "      <th>6</th>\n",
       "      <td>649</td>\n",
       "      <td>7</td>\n",
       "      <td>0</td>\n",
       "      <td>7/24/1982</td>\n",
       "      <td>18</td>\n",
       "      <td>25</td>\n",
       "      <td>28</td>\n",
       "      <td>33</td>\n",
       "      <td>36</td>\n",
       "      <td>42</td>\n",
       "      <td>7</td>\n",
       "    </tr>\n",
       "    <tr>\n",
       "      <th>7</th>\n",
       "      <td>649</td>\n",
       "      <td>8</td>\n",
       "      <td>0</td>\n",
       "      <td>7/31/1982</td>\n",
       "      <td>7</td>\n",
       "      <td>16</td>\n",
       "      <td>17</td>\n",
       "      <td>31</td>\n",
       "      <td>40</td>\n",
       "      <td>48</td>\n",
       "      <td>26</td>\n",
       "    </tr>\n",
       "    <tr>\n",
       "      <th>8</th>\n",
       "      <td>649</td>\n",
       "      <td>9</td>\n",
       "      <td>0</td>\n",
       "      <td>8/7/1982</td>\n",
       "      <td>5</td>\n",
       "      <td>10</td>\n",
       "      <td>23</td>\n",
       "      <td>27</td>\n",
       "      <td>37</td>\n",
       "      <td>38</td>\n",
       "      <td>33</td>\n",
       "    </tr>\n",
       "    <tr>\n",
       "      <th>9</th>\n",
       "      <td>649</td>\n",
       "      <td>10</td>\n",
       "      <td>0</td>\n",
       "      <td>8/14/1982</td>\n",
       "      <td>4</td>\n",
       "      <td>15</td>\n",
       "      <td>30</td>\n",
       "      <td>37</td>\n",
       "      <td>46</td>\n",
       "      <td>48</td>\n",
       "      <td>3</td>\n",
       "    </tr>\n",
       "  </tbody>\n",
       "</table>\n",
       "</div>"
      ],
      "text/plain": [
       "   PRODUCT  DRAW NUMBER  SEQUENCE NUMBER  DRAW DATE  NUMBER DRAWN 1  \\\n",
       "0      649            1                0  6/12/1982               3   \n",
       "1      649            2                0  6/19/1982               8   \n",
       "2      649            3                0  6/26/1982               1   \n",
       "3      649            4                0   7/3/1982               3   \n",
       "4      649            5                0  7/10/1982               5   \n",
       "5      649            6                0  7/17/1982               8   \n",
       "6      649            7                0  7/24/1982              18   \n",
       "7      649            8                0  7/31/1982               7   \n",
       "8      649            9                0   8/7/1982               5   \n",
       "9      649           10                0  8/14/1982               4   \n",
       "\n",
       "   NUMBER DRAWN 2  NUMBER DRAWN 3  NUMBER DRAWN 4  NUMBER DRAWN 5  \\\n",
       "0              11              12              14              41   \n",
       "1              33              36              37              39   \n",
       "2               6              23              24              27   \n",
       "3               9              10              13              20   \n",
       "4              14              21              31              34   \n",
       "5              20              21              25              31   \n",
       "6              25              28              33              36   \n",
       "7              16              17              31              40   \n",
       "8              10              23              27              37   \n",
       "9              15              30              37              46   \n",
       "\n",
       "   NUMBER DRAWN 6  BONUS NUMBER  \n",
       "0              43            13  \n",
       "1              41             9  \n",
       "2              39            34  \n",
       "3              43            34  \n",
       "4              47            45  \n",
       "5              41            33  \n",
       "6              42             7  \n",
       "7              48            26  \n",
       "8              38            33  \n",
       "9              48             3  "
      ]
     },
     "execution_count": 8,
     "metadata": {},
     "output_type": "execute_result"
    }
   ],
   "source": [
    "lottery_canada.head(10)"
   ]
  },
  {
   "cell_type": "markdown",
   "id": "06fa5316",
   "metadata": {},
   "source": [
    "## Function for Historical Data Check"
   ]
  },
  {
   "cell_type": "markdown",
   "id": "aac4a65a",
   "metadata": {},
   "source": [
    "The engineering team tells us that we need to write a function that will help users determine whether or not they would have ever won if they had used a particular combination of six numbers in the past. Here's what we need to know:\n",
    "\n",
    "* In our application, users enter six different numbers from 1 to 49.\n",
    "* Behind the scenes, the six numbers arrive as a Python list and act as input to our function.\n",
    "* We need to write a function to print:\n",
    "    * the number of occurrences of the selection combination; and\n",
    "    * the probability that you will win the big prize in the next drawing with that combination of numbers.\n",
    "\n",
    "We'll start by extracting all the winning numbers from the lottery dataset. `extract_numbers()` iterates over each row of the dataframe and extracts the six winning numbers as Python sets."
   ]
  },
  {
   "cell_type": "code",
   "execution_count": 10,
   "id": "9d7dea7c",
   "metadata": {},
   "outputs": [
    {
     "data": {
      "text/plain": [
       "0    {3, 41, 11, 12, 43, 14}\n",
       "1    {33, 36, 37, 39, 8, 41}\n",
       "2     {1, 6, 39, 23, 24, 27}\n",
       "3     {3, 9, 10, 43, 13, 20}\n",
       "4    {34, 5, 14, 47, 21, 31}\n",
       "dtype: object"
      ]
     },
     "execution_count": 10,
     "metadata": {},
     "output_type": "execute_result"
    }
   ],
   "source": [
    "def extract_numbers(row):\n",
    "    row = row[4:10]\n",
    "    row = set(row.values)\n",
    "    return row\n",
    "\n",
    "winning_numbers = lottery_canada.apply(extract_numbers, axis=1)\n",
    "winning_numbers.head()"
   ]
  },
  {
   "cell_type": "markdown",
   "id": "32aa7438",
   "metadata": {},
   "source": [
    "In the following, we write the `check_historical_occurrence()` function, which takes the user numbers and the historical numbers and prints out information about the number of occurrences and the probability of winning in the next drawing."
   ]
  },
  {
   "cell_type": "code",
   "execution_count": 11,
   "id": "71fd627a",
   "metadata": {},
   "outputs": [],
   "source": [
    "def check_historical_occurrence(user_numbers, historical_numbers):   \n",
    "\n",
    "    '''\n",
    "    user_numbers: a Python list\n",
    "    historical numbers: a pandas Series\n",
    "    '''\n",
    "    \n",
    "    user_numbers_set = set(user_numbers)\n",
    "    check_occurrence = historical_numbers == user_numbers_set\n",
    "    n_occurrences = check_occurrence.sum()\n",
    "    \n",
    "    if n_occurrences == 0:\n",
    "        print('''The combination {} has never occured.\n",
    "This doesn't mean it's more likely to occur now. Your chances to win the big prize in the next drawing using the combination {} are 0.0000072%.\n",
    "In other words, you have a 1 in 13,983,816 chances to win.'''.format(user_numbers, user_numbers))\n",
    "        \n",
    "    else:\n",
    "        print('''The number of times combination {} has occured in the past is {}.\n",
    "Your chances to win the big prize in the next drawing using the combination {} are 0.0000072%.\n",
    "In other words, you have a 1 in 13,983,816 chances to win.'''.format(user_numbers, n_occurrences,\n",
    "                                                                            user_numbers))"
   ]
  },
  {
   "cell_type": "code",
   "execution_count": 12,
   "id": "44a78436",
   "metadata": {},
   "outputs": [
    {
     "name": "stdout",
     "output_type": "stream",
     "text": [
      "The combination [2, 56, 23, 76, 1, 51] has never occured.\n",
      "This doesn't mean it's more likely to occur now. Your chances to win the big prize in the next drawing using the combination [2, 56, 23, 76, 1, 51] are 0.0000072%.\n",
      "In other words, you have a 1 in 13,983,816 chances to win.\n"
     ]
    }
   ],
   "source": [
    "test_input_3 = [2, 56, 23, 76, 1, 51]\n",
    "check_historical_occurrence(test_input_3, winning_numbers)"
   ]
  },
  {
   "cell_type": "code",
   "execution_count": 13,
   "id": "cc53aeaf",
   "metadata": {},
   "outputs": [
    {
     "name": "stdout",
     "output_type": "stream",
     "text": [
      "The number of times combination [34, 5, 14, 47, 21, 31] has occured in the past is 1.\n",
      "Your chances to win the big prize in the next drawing using the combination [34, 5, 14, 47, 21, 31] are 0.0000072%.\n",
      "In other words, you have a 1 in 13,983,816 chances to win.\n"
     ]
    }
   ],
   "source": [
    "test_input_4 = [34, 5, 14, 47, 21, 31]\n",
    "check_historical_occurrence(test_input_4, winning_numbers)"
   ]
  },
  {
   "cell_type": "markdown",
   "id": "8eb66ab2",
   "metadata": {},
   "source": [
    "## Multi-ticket Probability"
   ]
  },
  {
   "cell_type": "markdown",
   "id": "3af72229",
   "metadata": {},
   "source": [
    "Users should also be able to find the probability of winning when playing several different tickets for the first version of the app. For example, someone could play 15 different tickets and want to know the odds on winning the grand prize.\n",
    "\n",
    "When writing the function, the engineering team wants us to be aware of the following details\n",
    "\n",
    "* The user will be entering the number of different tickets that he or she wants to play (without entering the specific combinations that he or she wants to play).\n",
    "* We want the function to return a whole number from 1 to 13,983,816 (the maximum number of different tickets).\n",
    "* Depending on the number of different tickets played, the function should print information about the probability of winning the big prize.\n",
    "\n",
    "The `multi_ticket_probability()` function below takes the number of tickets and prints out information about the probability of winning depending on the input."
   ]
  },
  {
   "cell_type": "code",
   "execution_count": 14,
   "id": "e05092c3",
   "metadata": {},
   "outputs": [],
   "source": [
    "def multi_ticket_probability(n_tickets):\n",
    "    n_combinations = combinations(49, 6)\n",
    "    \n",
    "    probability = n_tickets / n_combinations\n",
    "    percentage_form = probability * 100\n",
    "    \n",
    "    if n_tickets == 1:\n",
    "        print('''Your chances to win the big prize with one ticket are {:.6f}%.\n",
    "In other words, you have a 1 in {:,} chances to win.'''.format(percentage_form, int(n_combinations)))\n",
    "    \n",
    "    else:\n",
    "        combinations_simplified = round(n_combinations / n_tickets)   \n",
    "        print('''Your chances to win the big prize with {:,} different tickets are {:.6f}%.\n",
    "In other words, you have a 1 in {:,} chances to win.'''.format(n_tickets, percentage_form,\n",
    "                                                               combinations_simplified))"
   ]
  },
  {
   "cell_type": "markdown",
   "id": "01c66d15",
   "metadata": {},
   "source": [
    "Let's run some tests for function."
   ]
  },
  {
   "cell_type": "code",
   "execution_count": 15,
   "id": "b3e7fc12",
   "metadata": {},
   "outputs": [
    {
     "name": "stdout",
     "output_type": "stream",
     "text": [
      "Your chances to win the big prize with one ticket are 0.000007%.\n",
      "In other words, you have a 1 in 13,983,816 chances to win.\n",
      "------------------------\n",
      "Your chances to win the big prize with 10 different tickets are 0.000072%.\n",
      "In other words, you have a 1 in 1,398,382 chances to win.\n",
      "------------------------\n",
      "Your chances to win the big prize with 100 different tickets are 0.000715%.\n",
      "In other words, you have a 1 in 139,838 chances to win.\n",
      "------------------------\n",
      "Your chances to win the big prize with 10,000 different tickets are 0.071511%.\n",
      "In other words, you have a 1 in 1,398 chances to win.\n",
      "------------------------\n",
      "Your chances to win the big prize with 1,000,000 different tickets are 7.151124%.\n",
      "In other words, you have a 1 in 14 chances to win.\n",
      "------------------------\n",
      "Your chances to win the big prize with 6,991,908 different tickets are 50.000000%.\n",
      "In other words, you have a 1 in 2 chances to win.\n",
      "------------------------\n",
      "Your chances to win the big prize with 13,983,816 different tickets are 100.000000%.\n",
      "In other words, you have a 1 in 1 chances to win.\n",
      "------------------------\n"
     ]
    }
   ],
   "source": [
    "test_inputs = [1, 10, 100, 10000, 1000000, 6991908, 13983816]\n",
    "\n",
    "for test_input in test_inputs:\n",
    "    multi_ticket_probability(test_input)\n",
    "    print('------------------------') # output delimiter"
   ]
  },
  {
   "cell_type": "markdown",
   "id": "b29193eb",
   "metadata": {},
   "source": [
    "## Less Winning Numbers — Function"
   ]
  },
  {
   "cell_type": "markdown",
   "id": "133963f8",
   "metadata": {},
   "source": [
    "In most of the 6/49 lotteries, there are smaller prizes available if a player's ticket matches two, three, four, or five of the six numbers that are drawn. That means that players may want to know the probability of matching 2, 3, 4, or 5, and the first version of the app should allow users to find that probability.\n",
    "\n",
    "When we write a function to calculate these probabilities, we need to be aware of these details:\n",
    "\n",
    "* Inside the app, the user enters\n",
    "    * six different numbers, from 1 to 49; and\n",
    "    * an integer between 2 and 5, representing the expected winning numbers\n",
    "* Our function will print out information about the probability of having a certain number of winning numbers in the game.\n",
    "\n",
    "In order to calculate the probabilities, we tell the engineering team that the specific combination on the ticket is irrelevant, and that all we need is the integer between 2 and 5 that represents the number of expected winning numbers. As a result, we are going to write a function called `probability_less_6()` that takes an integer and prints out information about the chances of winning as a function of the value of that integer.\n",
    "\n",
    "The following function computes the probability that a player's ticket matches exactly the given number of winning numbers. The function will return the probability of having exactly five winning numbers (no more and no less) if the player wants to know the probability of having five winning numbers. The probability of having at least five winning numbers will not be returned by the function."
   ]
  },
  {
   "cell_type": "code",
   "execution_count": 45,
   "id": "c030f12d",
   "metadata": {},
   "outputs": [],
   "source": [
    "def probability_less_6(n_winning_numbers):\n",
    "    \n",
    "    n_combinations_ticket = combinations(6, n_winning_numbers)\n",
    "    n_combinations_remaining = combinations(43, 6 - n_winning_numbers)\n",
    "    successful_outcomes = n_combinations_ticket * n_combinations_remaining\n",
    "    \n",
    "    n_combinations_total = combinations(49, 6)    \n",
    "    probability = successful_outcomes / n_combinations_total\n",
    "    \n",
    "    probability_percentage = probability * 100    \n",
    "    combinations_simplified = round(n_combinations_total/successful_outcomes)    \n",
    "    print('''Your chances of having {} winning numbers with this ticket are {:.6f}%.\n",
    "In other words, you have a 1 in {:,} chances to win.'''.format(n_winning_numbers, probability_percentage,\n",
    "                                                               int(combinations_simplified)))\n"
   ]
  },
  {
   "cell_type": "markdown",
   "id": "ea1c12e3",
   "metadata": {},
   "source": [
    "Now, let's test the function on all the three possible inputs."
   ]
  },
  {
   "cell_type": "code",
   "execution_count": 46,
   "id": "17ce82a3",
   "metadata": {},
   "outputs": [
    {
     "name": "stdout",
     "output_type": "stream",
     "text": [
      "Your chances of having 2 winning numbers with this ticket are 13.237803%.\n",
      "In other words, you have a 1 in 8 chances to win.\n",
      "--------------------------\n",
      "Your chances of having 3 winning numbers with this ticket are 1.765040%.\n",
      "In other words, you have a 1 in 57 chances to win.\n",
      "--------------------------\n",
      "Your chances of having 4 winning numbers with this ticket are 0.096862%.\n",
      "In other words, you have a 1 in 1,032 chances to win.\n",
      "--------------------------\n",
      "Your chances of having 5 winning numbers with this ticket are 0.001845%.\n",
      "In other words, you have a 1 in 54,201 chances to win.\n",
      "--------------------------\n"
     ]
    }
   ],
   "source": [
    "for test_input in [2, 3, 4, 5]:\n",
    "    probability_less_6(test_input)\n",
    "    print('--------------------------') # output delimiter"
   ]
  },
  {
   "cell_type": "markdown",
   "id": "edbbd49f",
   "metadata": {},
   "source": [
    "## Conclusion"
   ]
  },
  {
   "cell_type": "markdown",
   "id": "cd3e7c67",
   "metadata": {},
   "source": [
    "We have coded four main functions for the first version of the app:\n",
    "\n",
    "* `one_ticket_probability()` - computes the probability of winning the big prize on a single ticket\n",
    "* `check_historical_occurrence()` - checks if a given combination has occurred in the Canadian Lotto dataset.\n",
    "* `multi_ticket_probability()` - returns the probability of winning an arbitrary amount of tickets between 1 and 13,983,816\n",
    "* `probability_less_6()` - computes the probability to have exactly two, three, four or five winning numbers"
   ]
  }
 ],
 "metadata": {
  "kernelspec": {
   "display_name": "Python 3",
   "language": "python",
   "name": "python3"
  },
  "language_info": {
   "codemirror_mode": {
    "name": "ipython",
    "version": 3
   },
   "file_extension": ".py",
   "mimetype": "text/x-python",
   "name": "python",
   "nbconvert_exporter": "python",
   "pygments_lexer": "ipython3",
   "version": "3.8.8"
  }
 },
 "nbformat": 4,
 "nbformat_minor": 5
}
